{
 "cells": [
  {
   "cell_type": "markdown",
   "id": "db1f82cd",
   "metadata": {},
   "source": [
    "# Biodiversity Project"
   ]
  },
  {
   "cell_type": "markdown",
   "id": "dd286b1b",
   "metadata": {},
   "source": [
    "## Introduction\n",
    "\n",
    "In this project, we will analyze data detailing (stuff about species in a bunch of national parks). During our analysis, we will (do yadayadayada and blahblahblah etc...)"
   ]
  },
  {
   "cell_type": "markdown",
   "id": "6529010a",
   "metadata": {},
   "source": [
    "### Data sources:\n",
    "\n",
    "Out data consists of two csv files `observations.csv` and `species_info.csv` from (source). "
   ]
  },
  {
   "cell_type": "markdown",
   "id": "90392b49",
   "metadata": {},
   "source": [
    "# Scoping\n",
    "\n",
    "   ## Project goals:\n",
    "\n",
    "   Throughout this project, we will seek to answer the following questions.\n",
    "   \n",
    "   1. What are the proportions of species in each conservation status?\n",
    "   2. Are certain species at risk of becoming endagered?\n",
    "   3. Is their a statistically significant difference between species and their conservation status?\n",
    "   4. Which animal is the most prevelant and what is it's distribution across the parks?\n",
    "   \n",
    "   ## Data:\n",
    "\n",
    "   In our first file, `observations.csv`, we have (interesting stuff). (Description of stuff).\n",
    "\n",
    "And our second file, `species_info.csv`, we have (more interesting stuff). (Description of more interesting stuff). "
   ]
  },
  {
   "cell_type": "markdown",
   "id": "f5a7edee",
   "metadata": {},
   "source": [
    "# Analysis\n",
    "\n",
    "Throughout this project, we will calculate descriptive descriptive statistics and create data visualizations to understand our data better. We will also use statistical inference to draw conclusions about (something). At the end, we will later use our findings to answer the questions we posed earlier. \n",
    "\n",
    "Let's begin by loading the necessary modules we'll need for our analysis, along with our files."
   ]
  },
  {
   "cell_type": "code",
   "execution_count": 1,
   "id": "8ccd256b",
   "metadata": {},
   "outputs": [
    {
     "name": "stdout",
     "output_type": "stream",
     "text": [
      "Species:\n",
      "  category                scientific_name  \\\n",
      "0   Mammal  Clethrionomys gapperi gapperi   \n",
      "1   Mammal                      Bos bison   \n",
      "2   Mammal                     Bos taurus   \n",
      "3   Mammal                     Ovis aries   \n",
      "4   Mammal                 Cervus elaphus   \n",
      "\n",
      "                                        common_names conservation_status  \n",
      "0                           Gapper's Red-Backed Vole                 NaN  \n",
      "1                              American Bison, Bison                 NaN  \n",
      "2  Aurochs, Aurochs, Domestic Cattle (Feral), Dom...                 NaN  \n",
      "3  Domestic Sheep, Mouflon, Red Sheep, Sheep (Feral)                 NaN  \n",
      "4                                      Wapiti Or Elk                 NaN  \n",
      "\n",
      "\n",
      "Observations:\n",
      "            scientific_name                            park_name  observations\n",
      "0        Vicia benghalensis  Great Smoky Mountains National Park            68\n",
      "1            Neovison vison  Great Smoky Mountains National Park            77\n",
      "2         Prunus subcordata               Yosemite National Park           138\n",
      "3      Abutilon theophrasti                  Bryce National Park            84\n",
      "4  Githopsis specularioides  Great Smoky Mountains National Park            85\n"
     ]
    }
   ],
   "source": [
    "import pandas as pd\n",
    "import numpy as np\n",
    "import matplotlib.pyplot as plt\n",
    "import seaborn as sns\n",
    "\n",
    "species = pd.read_csv('species_info.csv',encoding='utf-8')\n",
    "observations = pd.read_csv('observations.csv',encoding='utf-8')\n",
    "print('Species:')\n",
    "print(species.head())\n",
    "\n",
    "print(\"\\n\")\n",
    "\n",
    "print('Observations:')\n",
    "print(observations.head())"
   ]
  },
  {
   "cell_type": "markdown",
   "id": "68bd02c2",
   "metadata": {},
   "source": [
    "In `species`, the column `conservation_status` seems to have a lot of missing values. Let's see what are its unique values, along with how many entries are missing. "
   ]
  },
  {
   "cell_type": "code",
   "execution_count": 2,
   "id": "f11b39c5",
   "metadata": {},
   "outputs": [
    {
     "name": "stdout",
     "output_type": "stream",
     "text": [
      "[nan 'Species of Concern' 'Endangered' 'Threatened' 'In Recovery']\n",
      "\n",
      "\n",
      "<class 'pandas.core.frame.DataFrame'>\n",
      "RangeIndex: 5824 entries, 0 to 5823\n",
      "Data columns (total 4 columns):\n",
      " #   Column               Non-Null Count  Dtype \n",
      "---  ------               --------------  ----- \n",
      " 0   category             5824 non-null   object\n",
      " 1   scientific_name      5824 non-null   object\n",
      " 2   common_names         5824 non-null   object\n",
      " 3   conservation_status  191 non-null    object\n",
      "dtypes: object(4)\n",
      "memory usage: 182.1+ KB\n",
      "None\n",
      "\n",
      "\n",
      "<class 'pandas.core.frame.DataFrame'>\n",
      "RangeIndex: 23296 entries, 0 to 23295\n",
      "Data columns (total 3 columns):\n",
      " #   Column           Non-Null Count  Dtype \n",
      "---  ------           --------------  ----- \n",
      " 0   scientific_name  23296 non-null  object\n",
      " 1   park_name        23296 non-null  object\n",
      " 2   observations     23296 non-null  int64 \n",
      "dtypes: int64(1), object(2)\n",
      "memory usage: 546.1+ KB\n",
      "None\n"
     ]
    }
   ],
   "source": [
    "print(species['conservation_status'].unique())\n",
    "print('\\n')\n",
    "print(species.info())\n",
    "print('\\n')\n",
    "print(observations.info())"
   ]
  },
  {
   "cell_type": "markdown",
   "id": "2ed3babb",
   "metadata": {},
   "source": [
    "It seems that most of the column has missing row entries. So first let's fill them. "
   ]
  },
  {
   "cell_type": "code",
   "execution_count": 3,
   "id": "98d2b03e",
   "metadata": {},
   "outputs": [
    {
     "name": "stdout",
     "output_type": "stream",
     "text": [
      "<class 'pandas.core.frame.DataFrame'>\n",
      "RangeIndex: 5824 entries, 0 to 5823\n",
      "Data columns (total 4 columns):\n",
      " #   Column               Non-Null Count  Dtype \n",
      "---  ------               --------------  ----- \n",
      " 0   category             5824 non-null   object\n",
      " 1   scientific_name      5824 non-null   object\n",
      " 2   common_names         5824 non-null   object\n",
      " 3   conservation_status  5824 non-null   object\n",
      "dtypes: object(4)\n",
      "memory usage: 182.1+ KB\n",
      "None\n"
     ]
    }
   ],
   "source": [
    "species=species.fillna('No Intervention')\n",
    "\n",
    "print(species.info())"
   ]
  },
  {
   "cell_type": "markdown",
   "id": "0a760ad4",
   "metadata": {},
   "source": [
    "Now that our dataframe `species` is complete, let's find the proportion of species in each conservation status. "
   ]
  },
  {
   "cell_type": "code",
   "execution_count": 61,
   "id": "5268dd97",
   "metadata": {},
   "outputs": [
    {
     "name": "stdout",
     "output_type": "stream",
     "text": [
      "Conservation status counts and proportions:\n",
      "  conservation_status  count  proportion\n",
      "0          Endangered     15    0.002576\n",
      "1         In Recovery      4    0.000687\n",
      "2     No Intervention   5363    0.920845\n",
      "3  Species of Concern    151    0.025927\n",
      "4          Threatened     10    0.001717\n",
      "\n",
      "\n",
      "Category counts and proportions:\n",
      "            category  count  proportion\n",
      "0          Amphibian     79    0.013565\n",
      "1               Bird    488    0.083791\n",
      "2               Fish    125    0.021463\n",
      "3             Mammal    176    0.030220\n",
      "4  Nonvascular Plant    333    0.057177\n",
      "5            Reptile     78    0.013393\n",
      "6     Vascular Plant   4262    0.731799\n"
     ]
    }
   ],
   "source": [
    "N=len(species)\n",
    "\n",
    "conservation_tab = species.groupby('conservation_status')\\\n",
    "                        .scientific_name.nunique().reset_index()\\\n",
    "                        .rename(columns={'scientific_name':\"count\"})\n",
    "\n",
    "conservation_tab['proportion'] = conservation_tab.apply(lambda x: x['count']/N, axis=1)\n",
    "\n",
    "category_tab = species.groupby('category')\\\n",
    "                    .scientific_name.nunique().reset_index()\\\n",
    "                    .rename(columns={'scientific_name':\"count\"})\n",
    "category_tab['proportion'] = category_tab.apply(lambda x: x['count']/N, axis=1)\n",
    "\n",
    "print(\"Conservation status counts and proportions:\")\n",
    "print(conservation_tab)\n",
    "print(\"\\n\")\n",
    "print(\"Category counts and proportions:\")\n",
    "print(category_tab)"
   ]
  },
  {
   "cell_type": "markdown",
   "id": "deb0825f",
   "metadata": {},
   "source": [
    "Immediately, we see that the majority of species require no intervention? But how about when grouped acrossed categories? Are certain animals in greater danger than others? According to the category counts and proportions, the majority of species, around 76 percent, are vascular plants. So perhaps they could (be skewing the data). \n",
    "\n",
    "Let's see what are the counts and proportions for `conservation_status` when grouped by `category`."
   ]
  },
  {
   "cell_type": "code",
   "execution_count": 62,
   "id": "245a23a8",
   "metadata": {},
   "outputs": [
    {
     "name": "stdout",
     "output_type": "stream",
     "text": [
      "conservation_status  Endangered  In Recovery  No Intervention  \\\n",
      "category                                                        \n",
      "Amphibian                   1.0          0.0             72.0   \n",
      "Bird                        4.0          3.0            413.0   \n",
      "Fish                        3.0          0.0            115.0   \n",
      "Mammal                      6.0          1.0            146.0   \n",
      "Nonvascular Plant           0.0          0.0            328.0   \n",
      "Reptile                     0.0          0.0             73.0   \n",
      "Vascular Plant              1.0          0.0           4216.0   \n",
      "\n",
      "conservation_status  Species of Concern  Threatened  \n",
      "category                                             \n",
      "Amphibian                           4.0         2.0  \n",
      "Bird                               68.0         0.0  \n",
      "Fish                                4.0         4.0  \n",
      "Mammal                             22.0         2.0  \n",
      "Nonvascular Plant                   5.0         0.0  \n",
      "Reptile                             5.0         0.0  \n",
      "Vascular Plant                     43.0         2.0  \n"
     ]
    }
   ],
   "source": [
    "cons_cat_tab = species.groupby(['category','conservation_status'])\\\n",
    "                        .scientific_name.nunique().reset_index()\\\n",
    "                           .pivot(columns='conservation_status',index='category',values='scientific_name')\\\n",
    "                                .fillna(0)\n",
    "\n",
    "print(cons_cat_tab)\n",
    "\n"
   ]
  },
  {
   "cell_type": "markdown",
   "id": "8c60a761",
   "metadata": {},
   "source": [
    "Immediately, we see that mammals have the greatest number of endangered species. But is this observation statistically significant? Are certain species more likely to become endangered than others? To generalize this, let's create a new column called `is_protected`."
   ]
  },
  {
   "cell_type": "code",
   "execution_count": 110,
   "id": "cee1dd43",
   "metadata": {},
   "outputs": [
    {
     "name": "stdout",
     "output_type": "stream",
     "text": [
      "            category  not_protected  protected  Percentage_Protected\n",
      "0          Amphibian             72          7              8.860759\n",
      "1               Bird            413         75             15.368852\n",
      "2               Fish            115         11              8.730159\n",
      "3             Mammal            146         30             17.045455\n",
      "4  Nonvascular Plant            328          5              1.501502\n",
      "5            Reptile             73          5              6.410256\n",
      "6     Vascular Plant           4216         46              1.079305\n"
     ]
    }
   ],
   "source": [
    "species['is_protected']=species.apply(lambda x: \"protected\" if x['conservation_status']!=\"No Intervention\" else \"not_protected\",axis=1)\n",
    "\n",
    "T = species.groupby([\"category\",\"is_protected\"])\\\n",
    "            .scientific_name.nunique().reset_index()\\\n",
    "                .pivot(columns=\"is_protected\", index=\"category\",values=\"scientific_name\")\\\n",
    "                    .reset_index()\n",
    "\n",
    "T.columns=['category','not_protected','protected']\n",
    "\n",
    "\n",
    "T['Percentage_Protected'] = T.apply(lambda x: 100*x['protected']/(x['protected']+x['not_protected']), axis=1)\n",
    "\n",
    "print(T)"
   ]
  },
  {
   "cell_type": "markdown",
   "id": "a2541c10",
   "metadata": {},
   "source": [
    "From the results above, we see that birds and mammals have the two highest percentages of protected species? To see whether these observations are statistically significant, let's run a few chi-squared tests."
   ]
  },
  {
   "cell_type": "code",
   "execution_count": 124,
   "id": "d5ba40ab",
   "metadata": {},
   "outputs": [
    {
     "name": "stdout",
     "output_type": "stream",
     "text": [
      "The p-value for mammals and birds is 0.6875948096661336\n",
      "\n",
      "The p-value for mammals and amphibians is 0.12757669693198975\n",
      "\n",
      "The p-value for mammals and reptiles is 0.03835559022969898\n",
      "\n",
      "The p-value for mammals and fish is 0.0561483484489001\n",
      "\n",
      "The p-value for birds and amphibians is 0.17593613249594683\n",
      "\n",
      "The p-value for birds and reptiles is 0.053135422321542065\n",
      "\n",
      "The p-value for birds and fish is 0.0561483484489001\n",
      "\n"
     ]
    }
   ],
   "source": [
    "from scipy.stats import chi2_contingency\n",
    "\n",
    "#Mammals and birds\n",
    "\n",
    "C1=[[413,75],\n",
    "   [146,30]]\n",
    "\n",
    "chi_test1 = chi2_contingency(C1)\n",
    "\n",
    "print(f\"The p-value for mammals and birds is {chi_test1[1]}\\n\")\n",
    "\n",
    "#Mammals and Amphibians\n",
    "\n",
    "C2=[[72,7],\n",
    "    [146,30]]\n",
    "chi_test2 = chi2_contingency(C2)\n",
    "\n",
    "print(f\"The p-value for mammals and amphibians is {chi_test2[1]}\\n\")\n",
    "\n",
    "#Mammals and Reptiles\n",
    "\n",
    "C3=[[73,5],\n",
    "    [146,30]]\n",
    "chi_test3 = chi2_contingency(C3)\n",
    "\n",
    "print(f\"The p-value for mammals and reptiles is {chi_test3[1]}\\n\")\n",
    "\n",
    "#Mammals and Fish\n",
    "\n",
    "C4=[[115,11],\n",
    "    [146,30]]\n",
    "chi_test4 = chi2_contingency(C4)\n",
    "\n",
    "print(f\"The p-value for mammals and fish is {chi_test4[1]}\\n\")\n",
    "\n",
    "#Birds and Amphibians\n",
    "\n",
    "C5=[[72,7],\n",
    "    [413,75]]\n",
    "chi_test5 = chi2_contingency(C5)\n",
    "\n",
    "print(f\"The p-value for birds and amphibians is {chi_test5[1]}\\n\")\n",
    "\n",
    "#Birds and Reptiles\n",
    "\n",
    "C6=[[73,5],\n",
    "    [413,75]]\n",
    "chi_test6 = chi2_contingency(C6)\n",
    "\n",
    "print(f\"The p-value for birds and reptiles is {chi_test6[1]}\\n\")\n",
    "\n",
    "#Birds and Fish\n",
    "\n",
    "C7=[[115,11],\n",
    "    [413,75]]\n",
    "chi_test7 = chi2_contingency(C7)\n",
    "\n",
    "print(f\"The p-value for birds and fish is {chi_test4[1]}\\n\")\n",
    "\n",
    "\n",
    "\n"
   ]
  },
  {
   "cell_type": "markdown",
   "id": "be696947-b689-480f-aa3a-a98cc6d2adba",
   "metadata": {},
   "source": [
    "From the results above, we can say with 90 percent confidence that mammals and birds are more likely to become endagered than other species,expect for maybe amphibians and plants"
   ]
  },
  {
   "cell_type": "markdown",
   "id": "ff687199-653e-4680-95be-cf50b5c53001",
   "metadata": {},
   "source": [
    "## Species in Parks\n",
    "\n",
    "Now, let's move on to the next part of our analysis (in which we'll do something)."
   ]
  },
  {
   "cell_type": "code",
   "execution_count": 125,
   "id": "402abe5b-d347-4a84-bc44-d08c040d99db",
   "metadata": {},
   "outputs": [],
   "source": [
    "import string\n",
    "import itertools"
   ]
  },
  {
   "cell_type": "markdown",
   "id": "59b804b8",
   "metadata": {},
   "source": [
    "## Conclusions\n",
    "\n",
    "(conclusions go here)"
   ]
  },
  {
   "cell_type": "markdown",
   "id": "0a3ae003",
   "metadata": {},
   "source": [
    "## Further Research\n",
    "\n",
    "(further research goes here)"
   ]
  }
 ],
 "metadata": {
  "kernelspec": {
   "display_name": "Python 3 (ipykernel)",
   "language": "python",
   "name": "python3"
  },
  "language_info": {
   "codemirror_mode": {
    "name": "ipython",
    "version": 3
   },
   "file_extension": ".py",
   "mimetype": "text/x-python",
   "name": "python",
   "nbconvert_exporter": "python",
   "pygments_lexer": "ipython3",
   "version": "3.9.7"
  }
 },
 "nbformat": 4,
 "nbformat_minor": 5
}
