{
 "cells": [
  {
   "cell_type": "markdown",
   "id": "db1f82cd",
   "metadata": {},
   "source": [
    "# Biodiversity Project"
   ]
  },
  {
   "cell_type": "markdown",
   "id": "dd286b1b",
   "metadata": {},
   "source": [
    "## Introduction\n",
    "\n",
    "In this project, we will analyze data detailing (stuff about species in a bunch of national parks). During our analysis, we will (do yadayadayada and blahblahblah etc...)"
   ]
  },
  {
   "cell_type": "markdown",
   "id": "6529010a",
   "metadata": {},
   "source": [
    "### Data sources:\n",
    "\n",
    "Out data consists of two csv files `observations.csv` and `species_info.csv` from (source). "
   ]
  },
  {
   "cell_type": "markdown",
   "id": "90392b49",
   "metadata": {},
   "source": [
    "# Scoping\n",
    "\n",
    "   ## Project goals:\n",
    "\n",
    "   Throughout this project, we will seek to answer the following questions.\n",
    "   \n",
    "   1. What are the proportions of species in each conservation status?\n",
    "   2. Are certain species at risk of becoming endagered?\n",
    "   3. Is their a statistically significant difference between species and their conservation status?\n",
    "   4. Which animal is the most prevelant and what is it's distribution across the parks?\n",
    "   \n",
    "   ## Data:\n",
    "\n",
    "   In our first file, `observations.csv`, we have (interesting stuff). (Description of stuff).\n",
    "\n",
    "And our second file, `species_info.csv`, we have (more interesting stuff). (Description of more interesting stuff). "
   ]
  },
  {
   "cell_type": "markdown",
   "id": "f5a7edee",
   "metadata": {},
   "source": [
    "# Analysis\n",
    "\n",
    "Throughout this project, we will calculate descriptive descriptive statistics and create data visualizations to understand our data better. We will also use statistical inference to draw conclusions about (something). At the end, we will later use our findings to answer the questions we posed earlier. \n",
    "\n",
    "Let's begin by loading the necessary modules we'll need for our analysis, along with our files."
   ]
  },
  {
   "cell_type": "code",
   "execution_count": 12,
   "id": "8ccd256b",
   "metadata": {},
   "outputs": [
    {
     "name": "stdout",
     "output_type": "stream",
     "text": [
      "Species:\n",
      "  category                scientific_name  \\\n",
      "0   Mammal  Clethrionomys gapperi gapperi   \n",
      "1   Mammal                      Bos bison   \n",
      "2   Mammal                     Bos taurus   \n",
      "3   Mammal                     Ovis aries   \n",
      "4   Mammal                 Cervus elaphus   \n",
      "\n",
      "                                        common_names conservation_status  \n",
      "0                           Gapper's Red-Backed Vole                 NaN  \n",
      "1                              American Bison, Bison                 NaN  \n",
      "2  Aurochs, Aurochs, Domestic Cattle (Feral), Dom...                 NaN  \n",
      "3  Domestic Sheep, Mouflon, Red Sheep, Sheep (Feral)                 NaN  \n",
      "4                                      Wapiti Or Elk                 NaN  \n",
      "\n",
      "\n",
      "Observations:\n",
      "            scientific_name                            park_name  observations\n",
      "0        Vicia benghalensis  Great Smoky Mountains National Park            68\n",
      "1            Neovison vison  Great Smoky Mountains National Park            77\n",
      "2         Prunus subcordata               Yosemite National Park           138\n",
      "3      Abutilon theophrasti                  Bryce National Park            84\n",
      "4  Githopsis specularioides  Great Smoky Mountains National Park            85\n"
     ]
    }
   ],
   "source": [
    "import pandas as pd\n",
    "import numpy as np\n",
    "import matplotlib.pyplot as plt\n",
    "import seaborn as sns\n",
    "\n",
    "species = pd.read_csv('species_info.csv',encoding='utf-8')\n",
    "observations = pd.read_csv('observations.csv',encoding='utf-8')\n",
    "print('Species:')\n",
    "print(species.head())\n",
    "\n",
    "print(\"\\n\")\n",
    "\n",
    "print('Observations:')\n",
    "print(observations.head())"
   ]
  },
  {
   "cell_type": "markdown",
   "id": "68bd02c2",
   "metadata": {},
   "source": [
    "In `species`, the column `conservation_status` seems to have a lot of missing values. Let's see what are its unique values, along with how many entries are missing. "
   ]
  },
  {
   "cell_type": "code",
   "execution_count": 13,
   "id": "f11b39c5",
   "metadata": {},
   "outputs": [
    {
     "name": "stdout",
     "output_type": "stream",
     "text": [
      "[nan 'Species of Concern' 'Endangered' 'Threatened' 'In Recovery']\n",
      "\n",
      "\n",
      "<class 'pandas.core.frame.DataFrame'>\n",
      "RangeIndex: 5824 entries, 0 to 5823\n",
      "Data columns (total 4 columns):\n",
      " #   Column               Non-Null Count  Dtype \n",
      "---  ------               --------------  ----- \n",
      " 0   category             5824 non-null   object\n",
      " 1   scientific_name      5824 non-null   object\n",
      " 2   common_names         5824 non-null   object\n",
      " 3   conservation_status  191 non-null    object\n",
      "dtypes: object(4)\n",
      "memory usage: 182.1+ KB\n",
      "None\n",
      "\n",
      "\n",
      "<class 'pandas.core.frame.DataFrame'>\n",
      "RangeIndex: 23296 entries, 0 to 23295\n",
      "Data columns (total 3 columns):\n",
      " #   Column           Non-Null Count  Dtype \n",
      "---  ------           --------------  ----- \n",
      " 0   scientific_name  23296 non-null  object\n",
      " 1   park_name        23296 non-null  object\n",
      " 2   observations     23296 non-null  int64 \n",
      "dtypes: int64(1), object(2)\n",
      "memory usage: 546.1+ KB\n",
      "None\n"
     ]
    }
   ],
   "source": [
    "print(species['conservation_status'].unique())\n",
    "print('\\n')\n",
    "print(species.info())\n",
    "print('\\n')\n",
    "print(observations.info())"
   ]
  },
  {
   "cell_type": "markdown",
   "id": "2ed3babb",
   "metadata": {},
   "source": [
    "It seems that most of the column has missing row entries. So first let's fill them. "
   ]
  },
  {
   "cell_type": "code",
   "execution_count": 15,
   "id": "98d2b03e",
   "metadata": {},
   "outputs": [
    {
     "name": "stdout",
     "output_type": "stream",
     "text": [
      "<class 'pandas.core.frame.DataFrame'>\n",
      "RangeIndex: 5824 entries, 0 to 5823\n",
      "Data columns (total 4 columns):\n",
      " #   Column               Non-Null Count  Dtype \n",
      "---  ------               --------------  ----- \n",
      " 0   category             5824 non-null   object\n",
      " 1   scientific_name      5824 non-null   object\n",
      " 2   common_names         5824 non-null   object\n",
      " 3   conservation_status  5824 non-null   object\n",
      "dtypes: object(4)\n",
      "memory usage: 182.1+ KB\n",
      "None\n"
     ]
    }
   ],
   "source": [
    "species=species.fillna('No Intervention')\n",
    "\n",
    "print(species.info())"
   ]
  },
  {
   "cell_type": "markdown",
   "id": "0a760ad4",
   "metadata": {},
   "source": [
    "Now that our dataframe `species` is complete, let's find the proportion of species in each conservation status. "
   ]
  },
  {
   "cell_type": "code",
   "execution_count": 32,
   "id": "5268dd97",
   "metadata": {},
   "outputs": [
    {
     "name": "stdout",
     "output_type": "stream",
     "text": [
      "Conservations status proportions:\n",
      "No Intervention       0.967205\n",
      "Species of Concern    0.027644\n",
      "Endangered            0.002747\n",
      "Threatened            0.001717\n",
      "In Recovery           0.000687\n",
      "Name: conservation_status, dtype: float64\n",
      "\n",
      "\n",
      "Conservation status counts:\n",
      "No Intervention       5633\n",
      "Species of Concern     161\n",
      "Endangered              16\n",
      "Threatened              10\n",
      "In Recovery              4\n",
      "Name: conservation_status, dtype: int64\n",
      "\n",
      "\n",
      "Category proportions:\n",
      "Vascular Plant       0.767514\n",
      "Bird                 0.089457\n",
      "Nonvascular Plant    0.057177\n",
      "Mammal               0.036745\n",
      "Fish                 0.021806\n",
      "Amphibian            0.013736\n",
      "Reptile              0.013565\n",
      "Name: category, dtype: float64\n",
      "\n",
      "\n",
      "Category counts:\n",
      "Vascular Plant       4470\n",
      "Bird                  521\n",
      "Nonvascular Plant     333\n",
      "Mammal                214\n",
      "Fish                  127\n",
      "Amphibian              80\n",
      "Reptile                79\n",
      "Name: category, dtype: int64\n"
     ]
    }
   ],
   "source": [
    "props_conservation = species['conservation_status'].value_counts()/len(species)\n",
    "\n",
    "counts_conservation = species['conservation_status'].value_counts()\n",
    "\n",
    "props_category = species['category'].value_counts()/len(species)\n",
    "\n",
    "counts_category = species['category'].value_counts()\n",
    "\n",
    "\n",
    "print('Conservations status proportions:')\n",
    "print(props_conservation)\n",
    "print('\\n')\n",
    "print('Conservation status counts:')\n",
    "print(counts_conservation)\n",
    "print('\\n')\n",
    "print('Category proportions:')\n",
    "print(props_category)\n",
    "print('\\n')\n",
    "print('Category counts:')\n",
    "print(counts_category)"
   ]
  },
  {
   "cell_type": "markdown",
   "id": "deb0825f",
   "metadata": {},
   "source": [
    "Immediately, we see that the majority of species require no intervention? But how about when grouped acrossed categories? Are certain animals in greater danger than others?"
   ]
  },
  {
   "cell_type": "code",
   "execution_count": 52,
   "id": "245a23a8",
   "metadata": {},
   "outputs": [
    {
     "name": "stdout",
     "output_type": "stream",
     "text": [
      "                                       conservation_status\n",
      "category          conservation_status                     \n",
      "Amphibian         No Intervention                       73\n",
      "                  Species of Concern                     4\n",
      "                  Threatened                             2\n",
      "                  Endangered                             1\n",
      "Bird              No Intervention                      442\n",
      "                  Species of Concern                    72\n",
      "                  Endangered                             4\n",
      "                  In Recovery                            3\n",
      "Fish              No Intervention                      116\n",
      "                  Species of Concern                     4\n",
      "                  Threatened                             4\n",
      "                  Endangered                             3\n",
      "Mammal            No Intervention                      176\n",
      "                  Species of Concern                    28\n",
      "                  Endangered                             7\n",
      "                  Threatened                             2\n",
      "                  In Recovery                            1\n",
      "Nonvascular Plant No Intervention                      328\n",
      "                  Species of Concern                     5\n",
      "Reptile           No Intervention                       74\n",
      "                  Species of Concern                     5\n",
      "Vascular Plant    No Intervention                     4424\n",
      "                  Species of Concern                    43\n",
      "                  Threatened                             2\n",
      "                  Endangered                             1\n"
     ]
    }
   ],
   "source": [
    "df=species.groupby('category').conservation_status\n",
    "counts_by_species=df.value_counts().to_frame()\n",
    "print(counts_by_species)"
   ]
  },
  {
   "cell_type": "markdown",
   "id": "59b804b8",
   "metadata": {},
   "source": [
    "## Conclusions\n",
    "\n",
    "(conclusions go here)"
   ]
  },
  {
   "cell_type": "markdown",
   "id": "0a3ae003",
   "metadata": {},
   "source": [
    "## Further Research\n",
    "\n",
    "(further research goes here)"
   ]
  }
 ],
 "metadata": {
  "kernelspec": {
   "display_name": "Python 3 (ipykernel)",
   "language": "python",
   "name": "python3"
  },
  "language_info": {
   "codemirror_mode": {
    "name": "ipython",
    "version": 3
   },
   "file_extension": ".py",
   "mimetype": "text/x-python",
   "name": "python",
   "nbconvert_exporter": "python",
   "pygments_lexer": "ipython3",
   "version": "3.9.7"
  }
 },
 "nbformat": 4,
 "nbformat_minor": 5
}
